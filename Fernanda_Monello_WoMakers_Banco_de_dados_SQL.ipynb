{
  "nbformat": 4,
  "nbformat_minor": 0,
  "metadata": {
    "colab": {
      "provenance": [],
      "mount_file_id": "1ZBaYbAko9a-f1CQtFqjRwyT3xVPzADW2",
      "authorship_tag": "ABX9TyO/lSvxXSzD99GNq37A/apf",
      "include_colab_link": true
    },
    "kernelspec": {
      "name": "python3",
      "display_name": "Python 3"
    },
    "language_info": {
      "name": "python"
    }
  },
  "cells": [
    {
      "cell_type": "markdown",
      "metadata": {
        "id": "view-in-github",
        "colab_type": "text"
      },
      "source": [
        "<a href=\"https://colab.research.google.com/github/Femonello/bootcamp-data-analytics/blob/main/Fernanda_Monello_WoMakers_Banco_de_dados_SQL.ipynb\" target=\"_parent\"><img src=\"https://colab.research.google.com/assets/colab-badge.svg\" alt=\"Open In Colab\"/></a>"
      ]
    },
    {
      "cell_type": "markdown",
      "source": [
        "### **Iniciando conexões drive e importações de bibliotecas**"
      ],
      "metadata": {
        "id": "iVSy5NThNC_9"
      }
    },
    {
      "cell_type": "code",
      "execution_count": 12,
      "metadata": {
        "colab": {
          "base_uri": "https://localhost:8080/"
        },
        "id": "bNoKt7gcM5DZ",
        "outputId": "85554d36-6d84-472f-facc-2501b59f25cd"
      },
      "outputs": [
        {
          "output_type": "stream",
          "name": "stdout",
          "text": [
            "Drive already mounted at /content/drive; to attempt to forcibly remount, call drive.mount(\"/content/drive\", force_remount=True).\n"
          ]
        }
      ],
      "source": [
        "from google.colab import drive\n",
        "drive.mount('/content/drive')"
      ]
    },
    {
      "cell_type": "code",
      "source": [
        "# Importando banco de dados sqlite do drive\n",
        "\n",
        "import sqlite3\n",
        "\n",
        "\n",
        "db_path = '/content/drive/MyDrive/db_exercicio.db'\n",
        "\n",
        "conn = sqlite3.connect(db_path)\n",
        "cursor = conn.cursor()\n"
      ],
      "metadata": {
        "id": "YxQabp2BPQC5"
      },
      "execution_count": 95,
      "outputs": []
    },
    {
      "cell_type": "code",
      "source": [
        "#importando bibliotecas adicionais para uso nos exercícios\n",
        "import random"
      ],
      "metadata": {
        "id": "fbPKCFdAmaD1"
      },
      "execution_count": 94,
      "outputs": []
    },
    {
      "cell_type": "markdown",
      "source": [
        "### **Exercício 1**\n",
        "\n",
        "Crie uma tabela chamada \"alunos\" com os seguintes campos: id (inteiro), nome (texto), idade (inteiro) e curso (texto).\n"
      ],
      "metadata": {
        "id": "x4mM3bNgSOvZ"
      }
    },
    {
      "cell_type": "code",
      "source": [
        "# Criando tabela alunos\n",
        "\n",
        "cursor.execute('CREATE TABLE alunos(id INT, nome VARCHAR(100), idade INT, curso VARCHAR(100))')"
      ],
      "metadata": {
        "colab": {
          "base_uri": "https://localhost:8080/"
        },
        "id": "N3wvr1RXQHDm",
        "outputId": "d3db875d-355b-412d-b4a3-dc8dbb32732b"
      },
      "execution_count": 6,
      "outputs": [
        {
          "output_type": "execute_result",
          "data": {
            "text/plain": [
              "<sqlite3.Cursor at 0x7fb8d250fac0>"
            ]
          },
          "metadata": {},
          "execution_count": 6
        }
      ]
    },
    {
      "cell_type": "code",
      "source": [
        "# EXTRA - consultando tabelas existentes no banco de dados (Feito com axilio de IA)\n",
        "cursor.execute(\"SELECT name FROM sqlite_master WHERE type='table';\")\n",
        "\n",
        "# Buscando resultadso\n",
        "tables = cursor.fetchall()\n",
        "\n",
        "# exibindo resultados\n",
        "for table in tables:\n",
        "  print(table[0])\n",
        "\n"
      ],
      "metadata": {
        "colab": {
          "base_uri": "https://localhost:8080/"
        },
        "id": "PkDfJr9iRGP8",
        "outputId": "0b3abc24-aa5f-4e03-f0b7-ee3f80b28af7"
      },
      "execution_count": 62,
      "outputs": [
        {
          "output_type": "stream",
          "name": "stdout",
          "text": [
            "alunos\n",
            "clientes\n"
          ]
        }
      ]
    },
    {
      "cell_type": "markdown",
      "source": [
        "### **Exercício 2**\n",
        "Insira pelo menos 5 registros de alunos na tabela que você criou no exercício anterior.\n"
      ],
      "metadata": {
        "id": "MKSzIuhJSdNs"
      }
    },
    {
      "cell_type": "code",
      "source": [
        "# Inserindo registros na tabela - Para fazê-lo de forma dinâmica vou usar um pouco do conhecimento de Python aprendido nas aulas anteriores\n",
        "\n",
        "\n",
        "# Matriz com os dados das estudantes: [Nome, Idade, Curso]\n",
        "estudantes = [\n",
        "    [\"Fernanda Monello\", 36, \"Data Analytics\"],\n",
        "    [\"Marie Curie\", 66, \"Física e Química\"],\n",
        "    [\"Ada Lovelace\", 36, \"Matemática e Computação\"],\n",
        "    [\"Katherine Johnson\", 101, \"Matemática e Física\"],\n",
        "    [\"Mae C. Jemison\", 67, \"Engenharia Química e Medicina\"],\n",
        "    [\"Greta Thunberg\", 19, \"Meio Ambiente\"],\n",
        "    [\"Hedy Lamarr\", 85, \"Engenharia e Telecomunicações\"]\n",
        "]\n",
        "\n",
        "\n",
        "\n",
        "# Loop para inserir registros aleatórios\n",
        "for i in range(len(estudantes)):  # Insere registros\n",
        "  cursor.execute(f'INSERT INTO alunos (id, nome, idade, curso) VALUES ({i + 1}, \"{estudantes[i][0]}\", {estudantes[i][1]}, \"{estudantes[i][2]}\")')\n",
        "  conn.commit()\n",
        "\n"
      ],
      "metadata": {
        "id": "F-J4quH6SBeq"
      },
      "execution_count": 51,
      "outputs": []
    },
    {
      "cell_type": "markdown",
      "source": [
        "### **Exercício 3: Consultas básicas**"
      ],
      "metadata": {
        "id": "ZI9nl-QjaMWS"
      }
    },
    {
      "cell_type": "code",
      "source": [
        "#  Selecionar todos os registros da tabela \"alunos\"\n",
        "\n",
        "estudantes = cursor.execute('SELECT * FROM alunos')\n",
        "\n",
        "for estudante in estudantes:\n",
        "  print(estudante)"
      ],
      "metadata": {
        "colab": {
          "base_uri": "https://localhost:8080/"
        },
        "id": "VtmE3TASTmLe",
        "outputId": "fc310839-d5cb-4f44-c35d-07c994863de3"
      },
      "execution_count": 52,
      "outputs": [
        {
          "output_type": "stream",
          "name": "stdout",
          "text": [
            "(1, 'Fernanda Monello', 36, 'Data Analytics')\n",
            "(2, 'Marie Curie', 66, 'Física e Química')\n",
            "(3, 'Ada Lovelace', 36, 'Matemática e Computação')\n",
            "(4, 'Katherine Johnson', 101, 'Matemática e Física')\n",
            "(5, 'Mae C. Jemison', 67, 'Engenharia Química e Medicina')\n",
            "(6, 'Greta Thunberg', 19, 'Meio Ambiente')\n",
            "(7, 'Hedy Lamarr', 85, 'Engenharia e Telecomunicações')\n"
          ]
        }
      ]
    },
    {
      "cell_type": "code",
      "source": [
        "# Selecionar o nome e a idade dos alunos com mais de 20 anos.\n",
        "\n",
        "estudantes = cursor.execute('SELECT nome, idade FROM alunos WHERE idade > 20')\n",
        "\n",
        "for estudante in estudantes:\n",
        "  print(estudante)"
      ],
      "metadata": {
        "colab": {
          "base_uri": "https://localhost:8080/"
        },
        "id": "f0FZHRa5bE-v",
        "outputId": "5b6e932d-d617-4bb2-86be-29b69943347b"
      },
      "execution_count": 53,
      "outputs": [
        {
          "output_type": "stream",
          "name": "stdout",
          "text": [
            "('Fernanda Monello', 36)\n",
            "('Marie Curie', 66)\n",
            "('Ada Lovelace', 36)\n",
            "('Katherine Johnson', 101)\n",
            "('Mae C. Jemison', 67)\n",
            "('Hedy Lamarr', 85)\n"
          ]
        }
      ]
    },
    {
      "cell_type": "code",
      "source": [
        "# Selecionar os alunos do curso de \"Engenharia\" em ordem alfabética.\n",
        "\n",
        "estudantes = cursor.execute('SELECT * FROM alunos WHERE curso LIKE \"%Engenharia%\" ORDER BY nome') #EXTRA - Selecionando os registros onde curso contém (%) engenharia\n",
        "\n",
        "for estudante in estudantes:\n",
        "  print(estudante)"
      ],
      "metadata": {
        "colab": {
          "base_uri": "https://localhost:8080/"
        },
        "id": "eciILe0weCGx",
        "outputId": "8123a9f6-7a98-4d9a-ab46-092d78d8974e"
      },
      "execution_count": 56,
      "outputs": [
        {
          "output_type": "stream",
          "name": "stdout",
          "text": [
            "(7, 'Hedy Lamarr', 85, 'Engenharia e Telecomunicações')\n",
            "(5, 'Mae C. Jemison', 67, 'Engenharia Química e Medicina')\n"
          ]
        }
      ]
    },
    {
      "cell_type": "code",
      "source": [
        "# Contar o número total de alunos na tabela\n",
        "\n",
        "cursor.execute(\"SELECT COUNT(*) FROM alunos\")\n",
        "count = cursor.fetchone()[0]\n",
        "print(f\"Total de alunos: {count}\")\n"
      ],
      "metadata": {
        "colab": {
          "base_uri": "https://localhost:8080/"
        },
        "id": "jIe7EcMfelDa",
        "outputId": "fb0f39d4-1d0b-4a6e-fd1f-33ef1fb0e767"
      },
      "execution_count": 57,
      "outputs": [
        {
          "output_type": "stream",
          "name": "stdout",
          "text": [
            "Total de alunos: 7\n"
          ]
        }
      ]
    },
    {
      "cell_type": "markdown",
      "source": [
        "### **Exercício 4: Atualização e remoção**\n"
      ],
      "metadata": {
        "id": "rbyR5ZexeyM8"
      }
    },
    {
      "cell_type": "code",
      "source": [
        "# Atualize a idade de um aluno específico na tabela.\n",
        "\n",
        "cursor.execute('UPDATE alunos SET idade=37 where id=1') # Atualizando a idade do registro com id=1\n",
        "conn.commit()\n",
        "\n",
        "\n",
        "estudantes = cursor.execute('SELECT * FROM alunos') # Selecionando dados para exibição\n",
        "\n",
        "for estudante in estudantes:\n",
        "  print(estudante)"
      ],
      "metadata": {
        "colab": {
          "base_uri": "https://localhost:8080/"
        },
        "id": "vQc6SE2ge4Wz",
        "outputId": "4dfeb90e-e4c9-42a4-a77d-f2702bed5461"
      },
      "execution_count": 59,
      "outputs": [
        {
          "output_type": "stream",
          "name": "stdout",
          "text": [
            "(1, 'Fernanda Monello', 37, 'Data Analytics')\n",
            "(2, 'Marie Curie', 66, 'Física e Química')\n",
            "(3, 'Ada Lovelace', 36, 'Matemática e Computação')\n",
            "(4, 'Katherine Johnson', 101, 'Matemática e Física')\n",
            "(5, 'Mae C. Jemison', 67, 'Engenharia Química e Medicina')\n",
            "(6, 'Greta Thunberg', 19, 'Meio Ambiente')\n",
            "(7, 'Hedy Lamarr', 85, 'Engenharia e Telecomunicações')\n"
          ]
        }
      ]
    },
    {
      "cell_type": "code",
      "source": [
        "# Remova um aluno pelo seu ID.\n",
        "\n",
        "cursor.execute('DELETE FROM alunos WHERE id=3') # excluindo aluno cujo id é 3\n",
        "conn.commit()\n",
        "\n",
        "estudantes = cursor.execute('SELECT * FROM alunos') # Selecionando dados para exibição\n",
        "\n",
        "for estudante in estudantes:\n",
        "  print(estudante)\n"
      ],
      "metadata": {
        "colab": {
          "base_uri": "https://localhost:8080/"
        },
        "id": "9k3Ijfdqfhuj",
        "outputId": "a629b4e6-a477-42be-9274-795e4d2d301c"
      },
      "execution_count": 60,
      "outputs": [
        {
          "output_type": "stream",
          "name": "stdout",
          "text": [
            "(1, 'Fernanda Monello', 37, 'Data Analytics')\n",
            "(2, 'Marie Curie', 66, 'Física e Química')\n",
            "(4, 'Katherine Johnson', 101, 'Matemática e Física')\n",
            "(5, 'Mae C. Jemison', 67, 'Engenharia Química e Medicina')\n",
            "(6, 'Greta Thunberg', 19, 'Meio Ambiente')\n",
            "(7, 'Hedy Lamarr', 85, 'Engenharia e Telecomunicações')\n"
          ]
        }
      ]
    },
    {
      "cell_type": "markdown",
      "source": [
        "### **Exercício 5: Criar uma Tabela e Inserir Dados**\n",
        "\n",
        "Crie uma tabela chamada \"clientes\" com os campos: id (chave\n",
        "primária), nome (texto), idade (inteiro) e saldo (float). Insira alguns\n",
        "registros de clientes na tabela"
      ],
      "metadata": {
        "id": "dpvY-z7Xf3s-"
      }
    },
    {
      "cell_type": "code",
      "source": [
        "# Criando tabela alunos\n",
        "\n",
        "cursor.execute('CREATE TABLE clientes(id INTEGER PRIMARY KEY, nome VARCHAR(100), idade INT, saldo FLOAT)')\n",
        "conn.commit()\n"
      ],
      "metadata": {
        "id": "kXjVn2ZCf8DA"
      },
      "execution_count": 61,
      "outputs": []
    },
    {
      "cell_type": "code",
      "source": [
        "# Inserindo registros na tabela\n",
        "\n",
        "\n",
        "\n",
        "# Matriz com os dados das clientes: [Nome, Idade]\n",
        "cadastros_clientes = [\n",
        "    [\"Maria\", 25],\n",
        "    [\"João\", 66],\n",
        "    [\"Ana\", 36,],\n",
        "    [\"Junior\", 30],\n",
        "    [\"José\", 17],\n",
        "    [\"Adalberto\", 19],\n",
        "    [\"Mario\", 85]\n",
        "]\n",
        "\n",
        "\n",
        "# Loop para inserir registros aleatórios\n",
        "for i in range(len(cadastros_clientes)):  # Insere registros\n",
        "  cursor.execute(f'INSERT INTO clientes (id, nome, idade, saldo) VALUES ({i + 1}, \"{cadastros_clientes[i][0]}\", {cadastros_clientes[i][1]}, \"{random.randrange(0,10000)}\")')\n",
        "  conn.commit()\n"
      ],
      "metadata": {
        "id": "B4-oQki8gnXN"
      },
      "execution_count": 75,
      "outputs": []
    },
    {
      "cell_type": "code",
      "source": [
        "lista = cursor.execute('SELECT * FROM clientes')\n",
        "\n",
        "for cliente in lista:\n",
        "  print(cliente)\n"
      ],
      "metadata": {
        "colab": {
          "base_uri": "https://localhost:8080/"
        },
        "id": "BLvGp2y5iKdp",
        "outputId": "bb2733e6-ca18-41aa-dfc3-2fa41b2dbdb4"
      },
      "execution_count": 76,
      "outputs": [
        {
          "output_type": "stream",
          "name": "stdout",
          "text": [
            "(1, 'Maria', 25, 1935.0)\n",
            "(2, 'João', 66, 2505.0)\n",
            "(3, 'Ana', 36, 8039.0)\n",
            "(4, 'Junior', 30, 2926.0)\n",
            "(5, 'José', 17, 2723.0)\n",
            "(6, 'Adalberto', 19, 6446.0)\n",
            "(7, 'Mario', 85, 3771.0)\n"
          ]
        }
      ]
    },
    {
      "cell_type": "markdown",
      "source": [
        "### **Exercício 6: Consultas e Funções Agregadas**\n",
        "\n"
      ],
      "metadata": {
        "id": "26ITcRMLgdGl"
      }
    },
    {
      "cell_type": "code",
      "source": [
        "# Selecione o nome e a idade dos clientes com idade superior a 30 anos\n",
        "\n",
        "selecao = cursor.execute('SELECT nome, idade FROM clientes WHERE idade > 30')\n",
        "\n",
        "for cliente in selecao:\n",
        "  print(cliente)"
      ],
      "metadata": {
        "colab": {
          "base_uri": "https://localhost:8080/"
        },
        "id": "W_VKfTPfgi4N",
        "outputId": "66e8e208-36c3-4a9a-8db3-2fa0cf5e968a"
      },
      "execution_count": 77,
      "outputs": [
        {
          "output_type": "stream",
          "name": "stdout",
          "text": [
            "('João', 66)\n",
            "('Ana', 36)\n",
            "('Mario', 85)\n"
          ]
        }
      ]
    },
    {
      "cell_type": "code",
      "source": [
        "# Calcule o saldo médio dos clientes\n",
        "\n",
        "cursor.execute('SELECT AVG(saldo) FROM clientes')\n",
        "saldo_medio = cursor.fetchone()[0] #Retornando a primeira linha e acessando o primeiro valor da tupla\n",
        "print(f\"Saldo médio dos clientes: {saldo_medio:.2f}\")"
      ],
      "metadata": {
        "colab": {
          "base_uri": "https://localhost:8080/"
        },
        "id": "YTIhe_kajIop",
        "outputId": "de00e644-8b45-4c7f-ea62-7ce44c0de876"
      },
      "execution_count": 85,
      "outputs": [
        {
          "output_type": "stream",
          "name": "stdout",
          "text": [
            "Saldo médio dos clientes: 4049.29\n"
          ]
        }
      ]
    },
    {
      "cell_type": "code",
      "source": [
        "# Encontre o cliente com o saldo máximo\n",
        "\n",
        "cursor.execute('SELECT nome, saldo FROM clientes WHERE saldo = (SELECT MAX(saldo) FROM clientes)')\n",
        "cliente_max_saldo = cursor.fetchone()\n",
        "\n",
        "print(f\"O maior saldo é: \\n{cliente_max_saldo}\")"
      ],
      "metadata": {
        "colab": {
          "base_uri": "https://localhost:8080/"
        },
        "id": "gwndRM9wkDCT",
        "outputId": "e405f94f-9aa1-4673-f372-73ef62aec152"
      },
      "execution_count": 88,
      "outputs": [
        {
          "output_type": "stream",
          "name": "stdout",
          "text": [
            "O maior saldo é: \n",
            "('Ana', 8039.0)\n"
          ]
        }
      ]
    },
    {
      "cell_type": "code",
      "source": [
        "# Conte quantos clientes têm saldo acima de 1000\n",
        "\n",
        "cursor.execute('SELECT COUNT(*) FROM clientes WHERE saldo>1000')\n",
        "resultado = cursor.fetchone()\n",
        "print(f'Número de clientes com saldo acima de R$1000: {resultado[0]}')"
      ],
      "metadata": {
        "colab": {
          "base_uri": "https://localhost:8080/"
        },
        "id": "cX5YhSp0kdkW",
        "outputId": "2dd41cda-84d1-40e0-cbba-90dc848dc147"
      },
      "execution_count": 89,
      "outputs": [
        {
          "output_type": "stream",
          "name": "stdout",
          "text": [
            "Número de clientes com saldo acima de R$1000: 7\n"
          ]
        }
      ]
    },
    {
      "cell_type": "markdown",
      "source": [
        "### **Exercício 7: Atualização e Remoção com Condições**"
      ],
      "metadata": {
        "id": "IeyiQDbRkuAC"
      }
    },
    {
      "cell_type": "code",
      "source": [
        "#  Atualize o saldo de um cliente específico.\n",
        "\n",
        "cursor.execute('UPDATE clientes SET saldo=999.99 WHERE id=1')\n",
        "conn.commit()\n",
        "\n",
        "lista = cursor.execute('SELECT * FROM clientes')\n",
        "\n",
        "for cliente in lista:\n",
        "  print(cliente)"
      ],
      "metadata": {
        "colab": {
          "base_uri": "https://localhost:8080/"
        },
        "id": "hvmtXWjEkzdp",
        "outputId": "c60e8b32-b3d9-4489-8a22-40eaef4bd751"
      },
      "execution_count": 91,
      "outputs": [
        {
          "output_type": "stream",
          "name": "stdout",
          "text": [
            "(1, 'Maria', 25, 999.99)\n",
            "(2, 'João', 66, 2505.0)\n",
            "(3, 'Ana', 36, 8039.0)\n",
            "(4, 'Junior', 30, 2926.0)\n",
            "(5, 'José', 17, 2723.0)\n",
            "(6, 'Adalberto', 19, 6446.0)\n",
            "(7, 'Mario', 85, 3771.0)\n"
          ]
        }
      ]
    },
    {
      "cell_type": "code",
      "source": [
        "# Remova um cliente pelo seu ID.\n",
        "\n",
        "cursor.execute('DELETE FROM clientes WHERE id=5')\n",
        "conn.commit()\n",
        "\n",
        "lista = cursor.execute('SELECT * FROM clientes')\n",
        "\n",
        "for cliente in lista:\n",
        "  print(cliente)"
      ],
      "metadata": {
        "colab": {
          "base_uri": "https://localhost:8080/"
        },
        "id": "Gx6B2YRLlPTv",
        "outputId": "509d0c0f-2718-44a5-c29e-ffac1966a322"
      },
      "execution_count": 92,
      "outputs": [
        {
          "output_type": "stream",
          "name": "stdout",
          "text": [
            "(1, 'Maria', 25, 999.99)\n",
            "(2, 'João', 66, 2505.0)\n",
            "(3, 'Ana', 36, 8039.0)\n",
            "(4, 'Junior', 30, 2926.0)\n",
            "(6, 'Adalberto', 19, 6446.0)\n",
            "(7, 'Mario', 85, 3771.0)\n"
          ]
        }
      ]
    },
    {
      "cell_type": "markdown",
      "source": [
        "### **Exercício 8: Junção de Tabelas**\n",
        "\n",
        "Crie uma segunda tabela chamada \"compras\" com os campos: id\n",
        "(chave primária), cliente_id (chave estrangeira referenciando o id\n",
        "da tabela \"clientes\"), produto (texto) e valor (real). Insira algumas\n",
        "compras associadas a clientes existentes na tabela \"clientes\".\n",
        "Escreva uma consulta para exibir o nome do cliente, o produto e o\n",
        "valor de cada compra."
      ],
      "metadata": {
        "id": "W_hGA85nlazY"
      }
    },
    {
      "cell_type": "code",
      "source": [
        "# Criando tabela compras\n",
        "\n",
        "cursor.execute('CREATE TABLE compras(id INTEGER PRIMARY KEY, cliente_id INT, produto VARCHAR(100), valor FLOAT)')\n",
        "conn.commit()"
      ],
      "metadata": {
        "id": "BHtJnevnlnVn"
      },
      "execution_count": 93,
      "outputs": []
    },
    {
      "cell_type": "code",
      "source": [
        "# Inserindo compras na tabela\n",
        "\n",
        "#Criando matriz com dados de compras (cliente_id, produto e valor)\n",
        "compras = [\n",
        "    [random.randint(1,7), \"Quadro\", random.randrange(10000,50000)],\n",
        "    [random.randint(1,7),\"Grupo de transmissão\", random.randrange(10000,50000)],\n",
        "    [random.randint(1,7),\"Câmbio traseiro\", random.randrange(10000,50000)],\n",
        "    [random.randint(1,7),\"Câmbio dianteiro\", random.randrange(10000,50000)],\n",
        "    [random.randint(1,7),\"Cassette\", random.randrange(10000,50000)],\n",
        "    [random.randint(1,7),\"Pedivela\", random.randrange(10000,50000)],\n",
        "    [random.randint(1,7),\"Guidão\", random.randrange(10000,50000)],\n",
        "    [random.randint(1,7),\"Mesa\", random.randrange(10000,50000)],\n",
        "    [random.randint(1,7),\"Freios a disco\", random.randrange(10000,50000)],\n",
        "    [random.randint(1,7),\"Freios a disco\", random.randrange(10000,50000)],\n",
        "    [random.randint(1,7),\"Pedivela\", random.randrange(10000,50000)],\n",
        "    [random.randint(1,7), \"Quadro\", random.randrange(10000,50000)]\n",
        "]\n",
        "\n",
        "for i in range(len(compras)):\n",
        "  cursor.execute(f'INSERT INTO compras (id, cliente_id, produto, valor) VALUES ({i + 1}, {compras[i][0]}, \"{compras[i][1]}\", {compras[i][2]})')\n",
        "  conn.commit()"
      ],
      "metadata": {
        "id": "B7FaRqzrl88O"
      },
      "execution_count": 99,
      "outputs": []
    },
    {
      "cell_type": "code",
      "source": [
        "cursor.execute('SELECT * FROM compras')\n",
        "\n",
        "for compra in cursor.fetchall():\n",
        "  print(compra)"
      ],
      "metadata": {
        "colab": {
          "base_uri": "https://localhost:8080/"
        },
        "id": "9hLhC81CoFa1",
        "outputId": "30f0e13d-83de-4c15-ed3c-908ac83bf907"
      },
      "execution_count": 100,
      "outputs": [
        {
          "output_type": "stream",
          "name": "stdout",
          "text": [
            "(1, 5, 'Quadro', 36464.0)\n",
            "(2, 1, 'Grupo de transmissão', 35169.0)\n",
            "(3, 1, 'Câmbio traseiro', 35396.0)\n",
            "(4, 6, 'Câmbio dianteiro', 22783.0)\n",
            "(5, 4, 'Cassette', 37191.0)\n",
            "(6, 2, 'Pedivela', 41601.0)\n",
            "(7, 5, 'Guidão', 11745.0)\n",
            "(8, 1, 'Mesa', 39549.0)\n",
            "(9, 3, 'Freios a disco', 42095.0)\n",
            "(10, 6, 'Freios a disco', 15372.0)\n",
            "(11, 6, 'Pedivela', 22595.0)\n",
            "(12, 6, 'Quadro', 40410.0)\n"
          ]
        }
      ]
    },
    {
      "cell_type": "code",
      "source": [
        "# consulta para exibir o nome do cliente, o produto e o valor de cada compra\n",
        "\n",
        "resultado = cursor.execute('SELECT clientes.nome, compras.produto, compras.valor FROM compras INNER JOIN clientes ON compras.cliente_id = clientes.id')\n",
        "\n",
        "for linha in resultado:\n",
        "  print(linha)"
      ],
      "metadata": {
        "colab": {
          "base_uri": "https://localhost:8080/"
        },
        "id": "gEjfWXBZpM-0",
        "outputId": "583fb160-8211-4a81-f900-8b0fef6b22ef"
      },
      "execution_count": 104,
      "outputs": [
        {
          "output_type": "stream",
          "name": "stdout",
          "text": [
            "('Maria', 'Grupo de transmissão', 35169.0)\n",
            "('Maria', 'Câmbio traseiro', 35396.0)\n",
            "('Adalberto', 'Câmbio dianteiro', 22783.0)\n",
            "('Junior', 'Cassette', 37191.0)\n",
            "('João', 'Pedivela', 41601.0)\n",
            "('Maria', 'Mesa', 39549.0)\n",
            "('Ana', 'Freios a disco', 42095.0)\n",
            "('Adalberto', 'Freios a disco', 15372.0)\n",
            "('Adalberto', 'Pedivela', 22595.0)\n",
            "('Adalberto', 'Quadro', 40410.0)\n"
          ]
        }
      ]
    }
  ]
}